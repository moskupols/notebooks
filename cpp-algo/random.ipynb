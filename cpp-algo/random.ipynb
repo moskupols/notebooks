{
 "cells": [
  {
   "cell_type": "markdown",
   "metadata": {},
   "source": [
    "В этом ноутбуке я использую cling, C++ kernel for Jupyter Notebook. Обычно Jupyter Notebook используется для интерактивных экспериментов на питоне или R, но в CERN сделали возможность писать здесь на C++.\n",
    "Устанавливал вот по этой инструкции: http://shuvomoy.github.io/blog/programming/2016/08/04/Cpp-kernel-for-Jupyter.html.\n",
    "\n",
    "Здесь можно делать то, чего нельзя в обычной программе на C++: не иметь main и исполнять код вне функций. Это удобно для демонстрационных целей."
   ]
  },
  {
   "cell_type": "markdown",
   "metadata": {},
   "source": [
    "# Генерация случайных чисел\n",
    "\n",
    "Бывает так, что в алгоритме хочется как-то использовать случайные величины. Например, хочется случайным образом перемешать массив, или сгенерировать случайный тест, или сгенерировать случайный пароль.\n",
    "\n",
    "Проблема в том, что компьютер — это штука для исполнения детерминированных алгоритмов. Процессор исполняет инструкции согласно строгой спецификации, и обычно не в состоянии взять откуда-то случайное число и положить его в память. Даже если попытаться не инициализировать память или регистр, а потом оттуда прочитать, скорее всего, то, что мы прочитаем, будет как-то связано с тем, что туда когда-то писалось. В обычной модели компьютера просто неоткуда взять и изобрести по-честному случайную величину, не используя какие-нибудь устройства ввода.\n",
    "\n",
    "На самом деле, устройств ввода у ПК много. Ядро Linux умеет генерировать по-честному случайные величины, анализируя для этого временные ряды использования клавиатуры и мыши и прерываний процессора. Ещё можно было бы использовать шум в микрофоне или веб-камере. Проблема такой честной генерации в том, что эти данные обновляются очень редко по сравнению с частотой, с которой процессор исполняет инструкции. Поэтому ядро поддерживает так называемый entropy pool. Он постепенно накапливает энтропию, то есть \"честность случайности\", пользуясь всем, чем можно, и расходует её всегда, когда процессы просят у ядра настоящие случайные значения. Если энтропия заканчивается, процесс может зависнуть, дожидаясь ответа от ядра. Криптографическая библиотека OpenSSL может в этой ситуации переключиться на менее честную генерацию, что менее безопасно. Это вполне возможная ситуация на серверах, которые работают в датацентрах со стабильным климатом и без подключенных клавиатуры, мыши, микрофона и вебкамеры.\n",
    "\n",
    "Возможно, вы когда-то подготавливали rsa-ключ программой PuTTY, чтобы пользоваться ssh или git на удалённом сервере без пароля, и PuTTY просил довольно долго водить мышкой, чтобы набрать энтропию. Вот это оно."
   ]
  },
  {
   "cell_type": "markdown",
   "metadata": {},
   "source": [
    "В общем, получить много по-честному случайных чисел из внешней среды сложно и потенциально долго. Поэтому практичный подход — генерировать *псевдо*случайную последовательность с помощью какого-нибудь специального алгоритма. *Псевдо*случайность значит, что алгоритм на самом деле детерминированный, то есть если его инициализировать одинаковым образом, то и сгенерированная последовательность будет одинаковая. Но при этом у хороших алгоритмов последовательность выглядит и проходит всякие тесты, почти как по-настоящему случайная. Но, конечно, до некоторых пор: если алгоритм использует конечное количество памяти, чтобы хранить свою позицию в последовательности, рано или поздно он придёт в состояние, в котором уже был, и тогда последовательность станет периодической, чего не бывает со случайными последовательностями."
   ]
  },
  {
   "cell_type": "markdown",
   "metadata": {},
   "source": [
    "## minstd\n",
    "\n",
    "До середины девяностых был особенно популярен довольно простой алгоритм генерации псевдослучайных чисел. У него даже есть устойчивое название — minstd. Выглядит он следующим образом.\n",
    "\n",
    "Пусть $\\kappa_{i-1}$ — число, которое мы сгенерировали в прошлый раз. Если ещё не генерировали, то это какое-нибудь число, которое надо взять из внешнего источника, обычно его называют зерном (seed) рандома.\n",
    "\n",
    "Тогда следующее число найдём по формуле: $\\kappa_{i} = g \\cdot \\kappa_{i-1} \\mod M$, где $g$ и $M$ — заранее фиксированные аккуратно подобранные числа.\n",
    "\n",
    "Всё. https://en.wikipedia.org/wiki/Lehmer_random_number_generator"
   ]
  },
  {
   "cell_type": "code",
   "execution_count": 1,
   "metadata": {
    "collapsed": false
   },
   "outputs": [
    {
     "data": {
      "text/plain": []
     },
     "execution_count": 1,
     "metadata": {},
     "output_type": "execute_result"
    }
   ],
   "source": [
    "#include <iostream>"
   ]
  },
  {
   "cell_type": "code",
   "execution_count": 2,
   "metadata": {
    "collapsed": false
   },
   "outputs": [
    {
     "data": {
      "text/plain": []
     },
     "execution_count": 2,
     "metadata": {},
     "output_type": "execute_result"
    }
   ],
   "source": [
    "class MyMinstd {\n",
    "public:\n",
    "    // M и G — статические поля. Это значит, что они хранятся не в каждом экземпляре класса, а\n",
    "    // в единственном месте в памяти программы, как глобальные переменные.\n",
    "    // Но при этом они находятся в пространстве видимости класса:\n",
    "    // - публичные статические поля доступны снаружи доступны только с явным указанием класса, например,\n",
    "    //   MyMinstd::G;\n",
    "    // - приватные статические поля недоступны снаружи так же, как не статические.\n",
    "    //\n",
    "    // Внутри чисел можно писать апострофы для удобства чтения. Компилятор их игнорирует.\n",
    "    static const long long M = 2'147'483'647;\n",
    "    static const long long G = 48'271;\n",
    "\n",
    "    explicit MyMinstd(int seed = 1)\n",
    "        : state(seed)\n",
    "    {}\n",
    "    \n",
    "    int operator()() {\n",
    "        state = (state * G) % M;\n",
    "        return state;\n",
    "    }\n",
    "    \n",
    "private:\n",
    "    int state;\n",
    "};"
   ]
  },
  {
   "cell_type": "code",
   "execution_count": 3,
   "metadata": {
    "collapsed": false
   },
   "outputs": [
    {
     "name": "stdout",
     "output_type": "stream",
     "text": [
      "530981\n",
      "2008663734\n",
      "1320441864\n",
      "1734574184\n"
     ]
    },
    {
     "data": {
      "text/plain": [
       "(std::basic_ostream<char, std::char_traits<char> > &) @0x7f2f16963e20\n"
      ]
     },
     "execution_count": 3,
     "metadata": {},
     "output_type": "execute_result"
    }
   ],
   "source": [
    "MyMinstd myGenerator11(11);\n",
    "std::cout << myGenerator11() << '\\n';\n",
    "std::cout << myGenerator11() << '\\n';\n",
    "std::cout << myGenerator11() << '\\n';\n",
    "std::cout << myGenerator11() << '\\n';"
   ]
  },
  {
   "cell_type": "code",
   "execution_count": 4,
   "metadata": {
    "collapsed": false
   },
   "outputs": [
    {
     "data": {
      "text/plain": []
     },
     "execution_count": 4,
     "metadata": {},
     "output_type": "execute_result"
    }
   ],
   "source": [
    "template<class Gen>\n",
    "void show(Gen gen, int n) {\n",
    "    for (int i = 0; i < n; ++i) {\n",
    "        std::cout << gen() % 100 << ' ';\n",
    "    }\n",
    "    std::cout << '\\n';\n",
    "}"
   ]
  },
  {
   "cell_type": "code",
   "execution_count": 5,
   "metadata": {
    "collapsed": false
   },
   "outputs": [
    {
     "name": "stdout",
     "output_type": "stream",
     "text": [
      "82 7 37 15 42 57 75 58 5 45 41 13 46 60 18 51 6 21 56 10 \n",
      "45 41 13 46 60 18 51 6 21 56 \n"
     ]
    },
    {
     "data": {
      "text/plain": [
       "(void) @0x7f2f10a2ec80\n"
      ]
     },
     "execution_count": 5,
     "metadata": {},
     "output_type": "execute_result"
    }
   ],
   "source": [
    "show(MyMinstd(42), 20);\n",
    "show(MyMinstd(90320905), 10);"
   ]
  },
  {
   "cell_type": "markdown",
   "metadata": {},
   "source": [
    "В стандартной библиотеке C++ есть minstd:"
   ]
  },
  {
   "cell_type": "code",
   "execution_count": 6,
   "metadata": {
    "collapsed": false
   },
   "outputs": [
    {
     "data": {
      "text/plain": []
     },
     "execution_count": 6,
     "metadata": {},
     "output_type": "execute_result"
    }
   ],
   "source": [
    "#include <random>"
   ]
  },
  {
   "cell_type": "code",
   "execution_count": 7,
   "metadata": {
    "collapsed": false
   },
   "outputs": [
    {
     "name": "stdout",
     "output_type": "stream",
     "text": [
      "82 7 37 15 42 57 75 58 5 45 41 13 46 60 18 51 6 21 56 10 \n"
     ]
    },
    {
     "data": {
      "text/plain": [
       "(void) @0x7f2f10a2ec80\n"
      ]
     },
     "execution_count": 7,
     "metadata": {},
     "output_type": "execute_result"
    }
   ],
   "source": [
    "show(std::minstd_rand(42), 20);"
   ]
  },
  {
   "cell_type": "markdown",
   "metadata": {},
   "source": [
    "Качество алгоритмов такого вида широко раскритиковано, особенно [некоторых](https://en.wikipedia.org/wiki/RANDU), зато они очень простые и быстрые."
   ]
  },
  {
   "cell_type": "markdown",
   "metadata": {},
   "source": [
    "## `rand()`"
   ]
  },
  {
   "cell_type": "markdown",
   "metadata": {},
   "source": [
    "Алгоритм, который должна реализовать функция rand(), унаследованная в C++ из C, не зафиксирован никаким стандартом. В реализации glibc, используемой обычно под linux, видимо, сделано что-то похожее на minstd: [link](https://www.mathstat.dal.ca/~selinger/random/)."
   ]
  },
  {
   "cell_type": "markdown",
   "metadata": {},
   "source": [
    "Использовать эту функцию в C++ крайне не рекомендуется, потому что есть лучшие альтернативы.\n",
    "\n",
    "* Так как алгоритм не зафиксирован, она буквально может всё время возвращать одно и то же [число 4](https://xkcd.com/221/). Согласно [cppreference](http://ru.cppreference.com/w/cpp/numeric/random/rand), *Нет никаких гарантий в отношении криптографической стойкости сгенерированных случайных чисел. В прошлом, в некоторых реализациях rand() имели место серьезные недостатки случайного распределения чисел (к примеру, единицы в нижних разрядах между вызовами просто чередовались 1-0-1-0-...).*. Особенно если [брать результат по модулю](https://stackoverflow.com/questions/14678957/libc-random-number-generator-flawed).\n",
    "\n",
    "* Кроме того, она имеет глобальное состояние, то есть во всей вашей программе может одновременно генерироваться только одна псевдослучайная последовательность. Нельзя в одной части погенерировать чисел так, чтобы на другой, совсем не связанной с первой, части программы, это не отразилось, если, конечно, не поменять зерно.\n",
    "\n",
    "* Функция может работать вовсе некорректно, если в вашей программе несколько потоков исполнения."
   ]
  },
  {
   "cell_type": "markdown",
   "metadata": {},
   "source": [
    "## Что стоит использовать"
   ]
  },
  {
   "cell_type": "markdown",
   "metadata": {},
   "source": [
    "Сейчас в моде алгоритм, который называется Mersenne Twister. Он качественный и у него очень большой период, до $2^{19937} − 1$. В стандартной библиотеке Python он [используется](https://docs.python.org/2.7/library/random.html) по умолчанию начиная с версии 2.3."
   ]
  },
  {
   "cell_type": "markdown",
   "metadata": {},
   "source": [
    "Использовать его в C++ так же легко, как std::minstd_rand или MyMinstd:"
   ]
  },
  {
   "cell_type": "code",
   "execution_count": 8,
   "metadata": {
    "collapsed": false
   },
   "outputs": [
    {
     "data": {
      "text/plain": []
     },
     "execution_count": 8,
     "metadata": {},
     "output_type": "execute_result"
    }
   ],
   "source": [
    "#include <random>"
   ]
  },
  {
   "cell_type": "code",
   "execution_count": 9,
   "metadata": {
    "collapsed": false
   },
   "outputs": [
    {
     "name": "stdout",
     "output_type": "stream",
     "text": [
      "1608637542\n",
      "3421126067\n",
      "76 14 26 35 20 24 50 13 78 14 10 54 31 72 15 95 67 6 49 76 \n"
     ]
    },
    {
     "data": {
      "text/plain": [
       "(void) @0x7f2f10a2ec80\n"
      ]
     },
     "execution_count": 9,
     "metadata": {},
     "output_type": "execute_result"
    }
   ],
   "source": [
    "std::mt19937 twister(42);\n",
    "\n",
    "std::cout << twister() << '\\n';\n",
    "std::cout << twister() << '\\n';\n",
    "\n",
    "show(twister, 20);"
   ]
  },
  {
   "cell_type": "markdown",
   "metadata": {},
   "source": [
    "std::mt19937 генерирует по 32 бита за раз. Если хочется сразу по 64 бита, можно воспользоваться другой вариацией того же класса:"
   ]
  },
  {
   "cell_type": "code",
   "execution_count": 10,
   "metadata": {
    "collapsed": false
   },
   "outputs": [
    {
     "data": {
      "text/plain": [
       "(unsigned long) 13930160852258120406\n"
      ]
     },
     "execution_count": 10,
     "metadata": {},
     "output_type": "execute_result"
    }
   ],
   "source": [
    "std::mt19937_64 twister64(42);\n",
    "twister64()"
   ]
  },
  {
   "cell_type": "markdown",
   "metadata": {},
   "source": [
    "При этом нужно понимать, что у него довольно большое состояние по сравнению с другими алгоритмами:"
   ]
  },
  {
   "cell_type": "code",
   "execution_count": 11,
   "metadata": {
    "collapsed": false
   },
   "outputs": [
    {
     "data": {
      "text/plain": [
       "(unsigned long) 5000\n"
      ]
     },
     "execution_count": 11,
     "metadata": {},
     "output_type": "execute_result"
    }
   ],
   "source": [
    "sizeof (std::mt19937)"
   ]
  },
  {
   "cell_type": "code",
   "execution_count": 12,
   "metadata": {
    "collapsed": false
   },
   "outputs": [
    {
     "data": {
      "text/plain": [
       "(unsigned long) 8\n"
      ]
     },
     "execution_count": 12,
     "metadata": {},
     "output_type": "execute_result"
    }
   ],
   "source": [
    "sizeof (std::minstd_rand)"
   ]
  },
  {
   "cell_type": "markdown",
   "metadata": {},
   "source": [
    "Это в байтах. Поэтому тут как с вектором, если вы передаёте генератор в функцию, и вам не нужна копия, передавайте по ссылке. "
   ]
  },
  {
   "cell_type": "markdown",
   "metadata": {},
   "source": [
    "## Распределения"
   ]
  },
  {
   "cell_type": "markdown",
   "metadata": {},
   "source": [
    "Скорее всего, вам нужны не просто случайные 32 или 64 бита, а число из какого-то распределения. Скажем, нужно равновероятно выбрать номер элемента в массиве или равновероятно выбрать вещественное число от -1 до 1, или с нормальным распределением выбрать вещественное число в окрестности 0, и т. д. Всё это можно сделать, набирая случайные 32 или 64 бита и преобразовывая их по каким-нибудь формулам, но ошибиться при этом легче, чем не ошибиться.\n",
    "\n",
    "Поэтому в стандартной библиотеке есть классы, моделирующие многие одномерные распределения. Это тоже именно классы, потому что обычно распределения имеют параметры: границы отрезка, из которого должны равновероятно браться числа, или медиана и дисперсия для нормального распределения. Эти параметры запоминаются, и затем если передавать в operator() какой-нибудь генератор случайных чисел, то можно получать уже числа из распределения."
   ]
  },
  {
   "cell_type": "code",
   "execution_count": 13,
   "metadata": {
    "collapsed": false
   },
   "outputs": [
    {
     "name": "stdout",
     "output_type": "stream",
     "text": [
      "9\n",
      "1\n",
      "7\n",
      "7\n"
     ]
    },
    {
     "data": {
      "text/plain": [
       "(std::basic_ostream<char, std::char_traits<char> > &) @0x7f2f16963e20\n"
      ]
     },
     "execution_count": 13,
     "metadata": {},
     "output_type": "execute_result"
    }
   ],
   "source": [
    "std::uniform_int_distribution<int> uniformInt(0, 9);\n",
    "std::cout << uniformInt(twister) << '\\n';\n",
    "std::cout << uniformInt(twister) << '\\n';\n",
    "std::cout << uniformInt(twister) << '\\n';\n",
    "std::cout << uniformInt(twister) << '\\n';"
   ]
  },
  {
   "cell_type": "code",
   "execution_count": 14,
   "metadata": {
    "collapsed": false
   },
   "outputs": [
    {
     "data": {
      "text/plain": []
     },
     "execution_count": 14,
     "metadata": {},
     "output_type": "execute_result"
    }
   ],
   "source": [
    "#include <vector>"
   ]
  },
  {
   "cell_type": "code",
   "execution_count": 15,
   "metadata": {
    "collapsed": false
   },
   "outputs": [
    {
     "data": {
      "text/plain": []
     },
     "execution_count": 15,
     "metadata": {},
     "output_type": "execute_result"
    }
   ],
   "source": [
    "template<class Distr, class Gen>\n",
    "void showDistr(Distr distr, Gen& gen, int n) {\n",
    "    std::vector<int> count(n, 0);\n",
    "    for (int i = 0; i < 100000; ++i) {\n",
    "        int randValue = distr(gen);\n",
    "        ++count[randValue];\n",
    "    }\n",
    "    for (auto c : count) {\n",
    "        std::cout << c << ' ';\n",
    "    }\n",
    "    std::cout << '\\n';\n",
    "    for (int i = 0; i < n; ++i) {\n",
    "        std::cout << i << \": \";\n",
    "        for (int j = 0; j < count[i] / 150; ++j) {\n",
    "            std::cout << '*';\n",
    "        }\n",
    "        std::cout << '\\n';\n",
    "    }\n",
    "}"
   ]
  },
  {
   "cell_type": "code",
   "execution_count": 16,
   "metadata": {
    "collapsed": false
   },
   "outputs": [
    {
     "name": "stdout",
     "output_type": "stream",
     "text": [
      "4967 4977 5033 4939 4945 5095 5150 4953 4987 4958 5064 5008 5001 5073 5007 4928 5000 4959 4996 4960 \n",
      "0: *********************************\n",
      "1: *********************************\n",
      "2: *********************************\n",
      "3: ********************************\n",
      "4: ********************************\n",
      "5: *********************************\n",
      "6: **********************************\n",
      "7: *********************************\n",
      "8: *********************************\n",
      "9: *********************************\n",
      "10: *********************************\n",
      "11: *********************************\n",
      "12: *********************************\n",
      "13: *********************************\n",
      "14: *********************************\n",
      "15: ********************************\n",
      "16: *********************************\n",
      "17: *********************************\n",
      "18: *********************************\n",
      "19: *********************************\n"
     ]
    },
    {
     "data": {
      "text/plain": [
       "(void) @0x7f2f10a2ec80\n"
      ]
     },
     "execution_count": 16,
     "metadata": {},
     "output_type": "execute_result"
    }
   ],
   "source": [
    "showDistr(std::uniform_int_distribution<int>(0, 19), twister, 20);"
   ]
  },
  {
   "cell_type": "code",
   "execution_count": 17,
   "metadata": {
    "collapsed": false
   },
   "outputs": [
    {
     "name": "stdout",
     "output_type": "stream",
     "text": [
      "0 0 0 0 0 0 0 5 12 30 93 228 499 1004 1941 3178 4881 6870 8822 10291 11530 11365 10400 9016 7002 5105 3381 2002 1189 647 289 131 61 16 7 5 0 0 0 0 0 0 0 0 0 0 0 0 0 0 \n",
      "0: \n",
      "1: \n",
      "2: \n",
      "3: \n",
      "4: \n",
      "5: \n",
      "6: \n",
      "7: \n",
      "8: \n",
      "9: \n",
      "10: \n",
      "11: *\n",
      "12: ***\n",
      "13: ******\n",
      "14: ************\n",
      "15: *********************\n",
      "16: ********************************\n",
      "17: *********************************************\n",
      "18: **********************************************************\n",
      "19: ********************************************************************\n",
      "20: ****************************************************************************\n",
      "21: ***************************************************************************\n",
      "22: *********************************************************************\n",
      "23: ************************************************************\n",
      "24: **********************************************\n",
      "25: **********************************\n",
      "26: **********************\n",
      "27: *************\n",
      "28: *******\n",
      "29: ****\n",
      "30: *\n",
      "31: \n",
      "32: \n",
      "33: \n",
      "34: \n",
      "35: \n",
      "36: \n",
      "37: \n",
      "38: \n",
      "39: \n",
      "40: \n",
      "41: \n",
      "42: \n",
      "43: \n",
      "44: \n",
      "45: \n",
      "46: \n",
      "47: \n",
      "48: \n",
      "49: \n"
     ]
    },
    {
     "data": {
      "text/plain": [
       "(void) @0x7f2f10a2ec80\n"
      ]
     },
     "execution_count": 17,
     "metadata": {},
     "output_type": "execute_result"
    }
   ],
   "source": [
    "showDistr(std::binomial_distribution<int>(49, 0.420), twister, 50);"
   ]
  },
  {
   "cell_type": "code",
   "execution_count": 18,
   "metadata": {
    "collapsed": false
   },
   "outputs": [
    {
     "name": "stdout",
     "output_type": "stream",
     "text": [
      "77106 22894 \n",
      "0: **********************************************************************************************************************************************************************************************************************************************************************************************************************************************************************************************************************************************************************************************************************************\n",
      "1: ********************************************************************************************************************************************************\n"
     ]
    },
    {
     "data": {
      "text/plain": [
       "(void) @0x7f2f10a2ec80\n"
      ]
     },
     "execution_count": 18,
     "metadata": {},
     "output_type": "execute_result"
    }
   ],
   "source": [
    "showDistr(std::bernoulli_distribution(0.228), twister, 2);"
   ]
  },
  {
   "cell_type": "markdown",
   "metadata": {},
   "source": [
    "std::uniform_int_distribution мог бы быть реализован как-то так:"
   ]
  },
  {
   "cell_type": "code",
   "execution_count": 19,
   "metadata": {
    "collapsed": false
   },
   "outputs": [
    {
     "data": {
      "text/plain": []
     },
     "execution_count": 19,
     "metadata": {},
     "output_type": "execute_result"
    }
   ],
   "source": [
    "template<class T>\n",
    "class MyUniform {\n",
    "public:\n",
    "    explicit MyUniform(T lower, T upper)\n",
    "        : lower(lower)\n",
    "        , upper(upper)\n",
    "    {}\n",
    "    \n",
    "    template<class Gen>\n",
    "    T operator()(Gen& gen) {\n",
    "        return lower + gen() % (upper - lower + 1);\n",
    "    }\n",
    "    \n",
    "private:\n",
    "    T lower, upper;\n",
    "};"
   ]
  },
  {
   "cell_type": "code",
   "execution_count": 20,
   "metadata": {
    "collapsed": false
   },
   "outputs": [
    {
     "name": "stdout",
     "output_type": "stream",
     "text": [
      "0 0 0 4971 5022 5183 4991 4913 5066 5029 4966 4961 5076 5057 4999 4957 4877 5103 5136 4849 4939 4996 4909 0 0 \n",
      "0: \n",
      "1: \n",
      "2: \n",
      "3: *********************************\n",
      "4: *********************************\n",
      "5: **********************************\n",
      "6: *********************************\n",
      "7: ********************************\n",
      "8: *********************************\n",
      "9: *********************************\n",
      "10: *********************************\n",
      "11: *********************************\n",
      "12: *********************************\n",
      "13: *********************************\n",
      "14: *********************************\n",
      "15: *********************************\n",
      "16: ********************************\n",
      "17: **********************************\n",
      "18: **********************************\n",
      "19: ********************************\n",
      "20: ********************************\n",
      "21: *********************************\n",
      "22: ********************************\n",
      "23: \n",
      "24: \n"
     ]
    },
    {
     "data": {
      "text/plain": [
       "(void) @0x7f2f10a2ec80\n"
      ]
     },
     "execution_count": 20,
     "metadata": {},
     "output_type": "execute_result"
    }
   ],
   "source": [
    "showDistr(MyUniform<int>(3, 22), twister, 25);"
   ]
  },
  {
   "cell_type": "markdown",
   "metadata": {},
   "source": [
    "## Настоящий рандом"
   ]
  },
  {
   "cell_type": "markdown",
   "metadata": {},
   "source": [
    "Кроме генераторов псевдослучайных чисел, в C++ есть класс с похожим интерфейсом, который пытается, если это возможно, получить от системы настоящее случайное число:"
   ]
  },
  {
   "cell_type": "code",
   "execution_count": 21,
   "metadata": {
    "collapsed": false
   },
   "outputs": [
    {
     "data": {
      "text/plain": []
     },
     "execution_count": 21,
     "metadata": {},
     "output_type": "execute_result"
    }
   ],
   "source": [
    "std::random_device trueRandom;"
   ]
  },
  {
   "cell_type": "code",
   "execution_count": 22,
   "metadata": {
    "collapsed": false
   },
   "outputs": [
    {
     "data": {
      "text/plain": [
       "(unsigned int) 3189666475\n"
      ]
     },
     "execution_count": 22,
     "metadata": {},
     "output_type": "execute_result"
    }
   ],
   "source": [
    "trueRandom()"
   ]
  },
  {
   "cell_type": "code",
   "execution_count": 23,
   "metadata": {
    "collapsed": false
   },
   "outputs": [
    {
     "data": {
      "text/plain": [
       "(unsigned int) 2514577865\n"
      ]
     },
     "execution_count": 23,
     "metadata": {},
     "output_type": "execute_result"
    }
   ],
   "source": [
    "trueRandom()"
   ]
  },
  {
   "cell_type": "code",
   "execution_count": 24,
   "metadata": {
    "collapsed": false
   },
   "outputs": [
    {
     "name": "stdout",
     "output_type": "stream",
     "text": [
      "4962 5061 4918 4983 5064 4945 4881 5080 4977 4930 5008 5001 4943 5059 5131 5057 4906 5083 4985 5026 \n",
      "0: *********************************\n",
      "1: *********************************\n",
      "2: ********************************\n",
      "3: *********************************\n",
      "4: *********************************\n",
      "5: ********************************\n",
      "6: ********************************\n",
      "7: *********************************\n",
      "8: *********************************\n",
      "9: ********************************\n",
      "10: *********************************\n",
      "11: *********************************\n",
      "12: ********************************\n",
      "13: *********************************\n",
      "14: **********************************\n",
      "15: *********************************\n",
      "16: ********************************\n",
      "17: *********************************\n",
      "18: *********************************\n",
      "19: *********************************\n"
     ]
    },
    {
     "data": {
      "text/plain": [
       "(void) @0x7f2f10a2ec80\n"
      ]
     },
     "execution_count": 24,
     "metadata": {},
     "output_type": "execute_result"
    }
   ],
   "source": [
    "showDistr(MyUniform(0, 19), trueRandom, 20);"
   ]
  },
  {
   "cell_type": "markdown",
   "metadata": {},
   "source": [
    "Использовать его надо понемножку (не так, как я сейчас, быстро набрав $10^5$ чисел), чтобы не наступило истощение entropy pool. В примерах на cppreference из random_device берут зерно для mt19937."
   ]
  },
  {
   "cell_type": "markdown",
   "metadata": {},
   "source": [
    "## Further reading\n",
    "\n",
    "- https://en.wikipedia.org/wiki/Entropy_%28computing%29\n",
    "\n",
    "- https://www.atlasobscura.com/places/encryption-lava-lamps — У Cloudflare есть *ферма лавовых ламп* для получения настоящего рандома.\n",
    "\n",
    "- http://en.cppreference.com/w/cpp/numeric/random\n",
    "\n",
    "- https://ru.wikipedia.org/wiki/Генератор_псевдослучайных_чисел\n",
    "\n",
    "- https://ru.wikipedia.org/wiki/Тасование_Фишера_—_Йетса, http://ru.cppreference.com/w/cpp/algorithm/random_shuffle — равновероятное перемешивание массива за O(n), обратите внимание, что std::random_shuffle устарел и уже удалён из последнего стандарта C++, потому что использует std::rand(). Вместо него можно использовать std::shuffle.\n",
    "\n",
    "- https://ru.wikipedia.org/wiki/Reservoir_sampling — выбор случайного сочетания фиксированного размера k из потока длины n за O(n) времени и всего O(k) памяти.\n",
    "\n",
    "- https://ru.wikipedia.org/wiki/Преобразование_Бокса_—_Мюллера — как имея равномерное распределение получить нормальное."
   ]
  }
 ],
 "metadata": {
  "kernelspec": {
   "display_name": "C++17",
   "language": "C++",
   "name": "cling-cpp17"
  },
  "language_info": {
   "codemirror_mode": "c++",
   "file_extension": ".c++",
   "mimetype": "text/x-c++src",
   "name": "c++"
  }
 },
 "nbformat": 4,
 "nbformat_minor": 2
}
